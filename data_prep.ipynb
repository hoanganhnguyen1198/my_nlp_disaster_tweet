{
 "cells": [
  {
   "cell_type": "code",
   "execution_count": 23,
   "metadata": {},
   "outputs": [],
   "source": [
    "import os\n",
    "import pandas as pd\n",
    "import numpy as np\n",
    "import tensorflow as tf\n",
    "import matplotlib.pyplot as plt"
   ]
  },
  {
   "cell_type": "code",
   "execution_count": 24,
   "metadata": {},
   "outputs": [],
   "source": [
    "def plot_graphs(history, metric):\n",
    "    plt.plot(history.history[metric])\n",
    "    plt.plot(history.history['val_'+metric], '')\n",
    "    plt.xlabel(\"Epochs\")\n",
    "    plt.ylabel(metric)\n",
    "    plt.legend([metric, 'val_'+metric])"
   ]
  },
  {
   "cell_type": "markdown",
   "metadata": {},
   "source": [
    "# Data Exploration"
   ]
  },
  {
   "cell_type": "code",
   "execution_count": 2,
   "metadata": {},
   "outputs": [],
   "source": [
    "DATA_PATH = os.path.join(os.getcwd(), \"data\")"
   ]
  },
  {
   "cell_type": "code",
   "execution_count": 3,
   "metadata": {},
   "outputs": [],
   "source": [
    "def load_tweet_data(data_path=DATA_PATH):\n",
    "    csv_path = os.path.join(data_path, \"train.csv\")\n",
    "    return pd.read_csv(csv_path)"
   ]
  },
  {
   "cell_type": "code",
   "execution_count": 4,
   "metadata": {},
   "outputs": [],
   "source": [
    "tweet_raw_data = load_tweet_data()"
   ]
  },
  {
   "cell_type": "code",
   "execution_count": 5,
   "metadata": {},
   "outputs": [
    {
     "data": {
      "text/html": [
       "<div>\n",
       "<style scoped>\n",
       "    .dataframe tbody tr th:only-of-type {\n",
       "        vertical-align: middle;\n",
       "    }\n",
       "\n",
       "    .dataframe tbody tr th {\n",
       "        vertical-align: top;\n",
       "    }\n",
       "\n",
       "    .dataframe thead th {\n",
       "        text-align: right;\n",
       "    }\n",
       "</style>\n",
       "<table border=\"1\" class=\"dataframe\">\n",
       "  <thead>\n",
       "    <tr style=\"text-align: right;\">\n",
       "      <th></th>\n",
       "      <th>id</th>\n",
       "      <th>keyword</th>\n",
       "      <th>location</th>\n",
       "      <th>text</th>\n",
       "      <th>target</th>\n",
       "    </tr>\n",
       "  </thead>\n",
       "  <tbody>\n",
       "    <tr>\n",
       "      <th>0</th>\n",
       "      <td>1</td>\n",
       "      <td>NaN</td>\n",
       "      <td>NaN</td>\n",
       "      <td>Our Deeds are the Reason of this #earthquake M...</td>\n",
       "      <td>1</td>\n",
       "    </tr>\n",
       "    <tr>\n",
       "      <th>1</th>\n",
       "      <td>4</td>\n",
       "      <td>NaN</td>\n",
       "      <td>NaN</td>\n",
       "      <td>Forest fire near La Ronge Sask. Canada</td>\n",
       "      <td>1</td>\n",
       "    </tr>\n",
       "    <tr>\n",
       "      <th>2</th>\n",
       "      <td>5</td>\n",
       "      <td>NaN</td>\n",
       "      <td>NaN</td>\n",
       "      <td>All residents asked to 'shelter in place' are ...</td>\n",
       "      <td>1</td>\n",
       "    </tr>\n",
       "    <tr>\n",
       "      <th>3</th>\n",
       "      <td>6</td>\n",
       "      <td>NaN</td>\n",
       "      <td>NaN</td>\n",
       "      <td>13,000 people receive #wildfires evacuation or...</td>\n",
       "      <td>1</td>\n",
       "    </tr>\n",
       "    <tr>\n",
       "      <th>4</th>\n",
       "      <td>7</td>\n",
       "      <td>NaN</td>\n",
       "      <td>NaN</td>\n",
       "      <td>Just got sent this photo from Ruby #Alaska as ...</td>\n",
       "      <td>1</td>\n",
       "    </tr>\n",
       "  </tbody>\n",
       "</table>\n",
       "</div>"
      ],
      "text/plain": [
       "   id keyword location                                               text  \\\n",
       "0   1     NaN      NaN  Our Deeds are the Reason of this #earthquake M...   \n",
       "1   4     NaN      NaN             Forest fire near La Ronge Sask. Canada   \n",
       "2   5     NaN      NaN  All residents asked to 'shelter in place' are ...   \n",
       "3   6     NaN      NaN  13,000 people receive #wildfires evacuation or...   \n",
       "4   7     NaN      NaN  Just got sent this photo from Ruby #Alaska as ...   \n",
       "\n",
       "   target  \n",
       "0       1  \n",
       "1       1  \n",
       "2       1  \n",
       "3       1  \n",
       "4       1  "
      ]
     },
     "execution_count": 5,
     "metadata": {},
     "output_type": "execute_result"
    }
   ],
   "source": [
    "tweet_raw_data.head()"
   ]
  },
  {
   "cell_type": "code",
   "execution_count": 6,
   "metadata": {},
   "outputs": [
    {
     "name": "stdout",
     "output_type": "stream",
     "text": [
      "<class 'pandas.core.frame.DataFrame'>\n",
      "RangeIndex: 7613 entries, 0 to 7612\n",
      "Data columns (total 5 columns):\n",
      " #   Column    Non-Null Count  Dtype \n",
      "---  ------    --------------  ----- \n",
      " 0   id        7613 non-null   int64 \n",
      " 1   keyword   7552 non-null   object\n",
      " 2   location  5080 non-null   object\n",
      " 3   text      7613 non-null   object\n",
      " 4   target    7613 non-null   int64 \n",
      "dtypes: int64(2), object(3)\n",
      "memory usage: 297.5+ KB\n"
     ]
    }
   ],
   "source": [
    "tweet_raw_data.info()"
   ]
  },
  {
   "cell_type": "code",
   "execution_count": 8,
   "metadata": {},
   "outputs": [
    {
     "data": {
      "text/plain": [
       "0    4342\n",
       "1    3271\n",
       "Name: target, dtype: int64"
      ]
     },
     "execution_count": 8,
     "metadata": {},
     "output_type": "execute_result"
    }
   ],
   "source": [
    "tweet_raw_data[\"target\"].value_counts()"
   ]
  },
  {
   "cell_type": "code",
   "execution_count": 13,
   "metadata": {},
   "outputs": [],
   "source": [
    "tweet_prototype_data = tweet_raw_data.copy()"
   ]
  },
  {
   "cell_type": "code",
   "execution_count": 14,
   "metadata": {},
   "outputs": [],
   "source": [
    "tweet_prototype_data[\"p_keyword\"] = tweet_prototype_data[\"keyword\"].apply(lambda x: x if not pd.isnull(x) else '0')\n",
    "tweet_prototype_data[\"p_location\"] = tweet_prototype_data[\"location\"].apply(lambda x: x if not pd.isnull(x) else '0')\n",
    "tweet_prototype_data[\"p_has_location\"] = tweet_prototype_data[\"location\"].apply(lambda x: 1 if not pd.isnull(x) else 0)\n",
    "\n",
    "tweet_prototype_data = tweet_prototype_data.drop(['keyword', 'location'], axis=1)"
   ]
  },
  {
   "cell_type": "code",
   "execution_count": 15,
   "metadata": {},
   "outputs": [
    {
     "name": "stdout",
     "output_type": "stream",
     "text": [
      "<class 'pandas.core.frame.DataFrame'>\n",
      "RangeIndex: 7613 entries, 0 to 7612\n",
      "Data columns (total 6 columns):\n",
      " #   Column          Non-Null Count  Dtype \n",
      "---  ------          --------------  ----- \n",
      " 0   id              7613 non-null   int64 \n",
      " 1   text            7613 non-null   object\n",
      " 2   target          7613 non-null   int64 \n",
      " 3   p_keyword       7613 non-null   object\n",
      " 4   p_location      7613 non-null   object\n",
      " 5   p_has_location  7613 non-null   int64 \n",
      "dtypes: int64(3), object(3)\n",
      "memory usage: 357.0+ KB\n"
     ]
    }
   ],
   "source": [
    "tweet_prototype_data.info()"
   ]
  },
  {
   "cell_type": "code",
   "execution_count": 16,
   "metadata": {},
   "outputs": [
    {
     "data": {
      "text/plain": [
       "{'0': 61,\n",
       " 'fatalities': 45,\n",
       " 'deluge': 42,\n",
       " 'armageddon': 42,\n",
       " 'sinking': 41,\n",
       " 'damage': 41,\n",
       " 'harm': 41,\n",
       " 'body%20bags': 41,\n",
       " 'evacuate': 40,\n",
       " 'fear': 40,\n",
       " 'outbreak': 40,\n",
       " 'siren': 40,\n",
       " 'twister': 40,\n",
       " 'windstorm': 40,\n",
       " 'collided': 40,\n",
       " 'sinkhole': 39,\n",
       " 'sunk': 39,\n",
       " 'hellfire': 39,\n",
       " 'weapon': 39,\n",
       " 'weapons': 39,\n",
       " 'famine': 39,\n",
       " 'explosion': 39,\n",
       " 'whirlwind': 39,\n",
       " 'earthquake': 39,\n",
       " 'derailment': 39,\n",
       " 'wreckage': 39,\n",
       " 'collision': 39,\n",
       " 'flames': 39,\n",
       " 'wrecked': 39,\n",
       " 'ambulance': 38,\n",
       " 'injury': 38,\n",
       " 'hurricane': 38,\n",
       " 'flooding': 38,\n",
       " 'fire': 38,\n",
       " 'fatal': 38,\n",
       " 'blaze': 38,\n",
       " 'explode': 38,\n",
       " 'drowned': 38,\n",
       " 'thunder': 38,\n",
       " 'derailed': 38,\n",
       " 'typhoon': 38,\n",
       " 'deaths': 38,\n",
       " 'upheaval': 38,\n",
       " 'oil%20spill': 38,\n",
       " 'bombed': 38,\n",
       " 'emergency': 37,\n",
       " 'pandemonium': 37,\n",
       " 'hostages': 37,\n",
       " 'wounded': 37,\n",
       " 'debris': 37,\n",
       " 'ruin': 37,\n",
       " 'burning%20buildings': 37,\n",
       " 'sandstorm': 37,\n",
       " 'wreck': 37,\n",
       " 'blizzard': 37,\n",
       " 'curfew': 37,\n",
       " 'crush': 37,\n",
       " 'fatality': 37,\n",
       " 'bioterror': 37,\n",
       " 'mudslide': 37,\n",
       " 'quarantined': 37,\n",
       " 'police': 37,\n",
       " 'destroy': 37,\n",
       " 'panic': 37,\n",
       " 'floods': 36,\n",
       " 'displaced': 36,\n",
       " 'devastation': 36,\n",
       " 'screaming': 36,\n",
       " 'nuclear%20reactor': 36,\n",
       " 'dust%20storm': 36,\n",
       " 'ablaze': 36,\n",
       " 'attack': 36,\n",
       " 'engulfed': 36,\n",
       " 'evacuated': 36,\n",
       " 'evacuation': 36,\n",
       " 'detonate': 36,\n",
       " 'tragedy': 36,\n",
       " 'death': 36,\n",
       " 'desolation': 36,\n",
       " 'cliff%20fall': 36,\n",
       " 'massacre': 36,\n",
       " 'refugees': 36,\n",
       " 'catastrophe': 36,\n",
       " 'danger': 36,\n",
       " 'accident': 35,\n",
       " 'bridge%20collapse': 35,\n",
       " 'razed': 35,\n",
       " 'rescued': 35,\n",
       " 'inundated': 35,\n",
       " 'hazardous': 35,\n",
       " 'hail': 35,\n",
       " 'rescuers': 35,\n",
       " 'flood': 35,\n",
       " 'injured': 35,\n",
       " 'rioting': 35,\n",
       " 'hijacker': 35,\n",
       " 'attacked': 35,\n",
       " 'screams': 35,\n",
       " 'buildings%20burning': 35,\n",
       " 'storm': 35,\n",
       " 'suicide%20bomb': 35,\n",
       " 'structural%20failure': 35,\n",
       " 'bleeding': 35,\n",
       " 'demolition': 35,\n",
       " 'derail': 35,\n",
       " 'traumatised': 35,\n",
       " 'tornado': 35,\n",
       " 'casualties': 35,\n",
       " 'disaster': 35,\n",
       " 'drought': 35,\n",
       " 'bloody': 35,\n",
       " 'blood': 35,\n",
       " 'collapsed': 35,\n",
       " 'emergency%20plan': 35,\n",
       " 'airplane%20accident': 35,\n",
       " 'loud%20bang': 34,\n",
       " 'lava': 34,\n",
       " 'riot': 34,\n",
       " 'rainstorm': 34,\n",
       " 'collide': 34,\n",
       " 'crashed': 34,\n",
       " 'annihilated': 34,\n",
       " 'casualty': 34,\n",
       " 'aftershock': 34,\n",
       " 'bomb': 34,\n",
       " 'quarantine': 34,\n",
       " 'collapse': 34,\n",
       " 'tsunami': 34,\n",
       " 'heat%20wave': 34,\n",
       " 'demolish': 34,\n",
       " 'flattened': 34,\n",
       " 'blazing': 34,\n",
       " 'nuclear%20disaster': 34,\n",
       " 'smoke': 34,\n",
       " 'electrocuted': 34,\n",
       " 'army': 34,\n",
       " 'arsonist': 34,\n",
       " 'drowning': 34,\n",
       " 'natural%20disaster': 34,\n",
       " 'terrorism': 34,\n",
       " 'burning': 34,\n",
       " 'screamed': 34,\n",
       " 'destruction': 34,\n",
       " 'hazard': 34,\n",
       " 'military': 34,\n",
       " 'panicking': 33,\n",
       " 'wildfire': 33,\n",
       " 'stretcher': 33,\n",
       " 'suicide%20bombing': 33,\n",
       " 'survived': 33,\n",
       " 'thunderstorm': 33,\n",
       " 'trouble': 33,\n",
       " 'violent%20storm': 33,\n",
       " 'wounds': 33,\n",
       " 'body%20bag': 33,\n",
       " 'emergency%20services': 33,\n",
       " 'injuries': 33,\n",
       " 'blown%20up': 33,\n",
       " 'buildings%20on%20fire': 33,\n",
       " 'burned': 33,\n",
       " 'chemical%20emergency': 33,\n",
       " 'crash': 33,\n",
       " 'blew%20up': 33,\n",
       " 'exploded': 33,\n",
       " 'fire%20truck': 33,\n",
       " 'body%20bagging': 33,\n",
       " 'hijack': 33,\n",
       " 'lightning': 33,\n",
       " 'meltdown': 33,\n",
       " 'landslide': 33,\n",
       " 'mass%20murder': 33,\n",
       " 'destroyed': 32,\n",
       " 'survive': 32,\n",
       " 'electrocute': 32,\n",
       " 'drown': 32,\n",
       " 'cyclone': 32,\n",
       " 'eyewitness': 32,\n",
       " 'detonation': 32,\n",
       " 'mass%20murderer': 32,\n",
       " 'apocalypse': 32,\n",
       " 'hijacking': 32,\n",
       " 'arson': 32,\n",
       " 'blight': 32,\n",
       " 'trapped': 32,\n",
       " 'forest%20fires': 32,\n",
       " 'hailstorm': 32,\n",
       " 'devastated': 31,\n",
       " 'hostage': 31,\n",
       " 'trauma': 31,\n",
       " 'suicide%20bomber': 31,\n",
       " 'terrorist': 31,\n",
       " 'obliterated': 31,\n",
       " 'crushed': 31,\n",
       " 'wild%20fires': 31,\n",
       " 'obliterate': 31,\n",
       " 'survivors': 30,\n",
       " 'avalanche': 30,\n",
       " 'dead': 30,\n",
       " 'bioterrorism': 30,\n",
       " 'catastrophic': 30,\n",
       " 'mayhem': 30,\n",
       " 'annihilation': 29,\n",
       " 'bombing': 29,\n",
       " 'obliteration': 29,\n",
       " 'desolate': 29,\n",
       " 'seismic': 29,\n",
       " 'first%20responders': 29,\n",
       " 'snowstorm': 29,\n",
       " 'sirens': 29,\n",
       " 'demolished': 28,\n",
       " 'rubble': 28,\n",
       " 'deluged': 27,\n",
       " 'volcano': 27,\n",
       " 'battle': 26,\n",
       " 'bush%20fires': 25,\n",
       " 'war%20zone': 24,\n",
       " 'rescue': 22,\n",
       " 'forest%20fire': 19,\n",
       " 'epicentre': 12,\n",
       " 'threat': 11,\n",
       " 'inundation': 10,\n",
       " 'radiation%20emergency': 9}"
      ]
     },
     "execution_count": 16,
     "metadata": {},
     "output_type": "execute_result"
    }
   ],
   "source": [
    "tweet_keyword_dict = tweet_prototype_data[\"p_keyword\"].value_counts().to_dict()\n",
    "tweet_keyword_dict"
   ]
  },
  {
   "cell_type": "code",
   "execution_count": 21,
   "metadata": {},
   "outputs": [],
   "source": [
    "tweet_location_dict = tweet_prototype_data[\"p_location\"].value_counts().to_dict()\n",
    "# tweet_location_dict"
   ]
  },
  {
   "cell_type": "code",
   "execution_count": 18,
   "metadata": {},
   "outputs": [
    {
     "data": {
      "text/plain": [
       "1    5080\n",
       "0    2533\n",
       "Name: p_has_location, dtype: int64"
      ]
     },
     "execution_count": 18,
     "metadata": {},
     "output_type": "execute_result"
    }
   ],
   "source": [
    "tweet_prototype_data[\"p_has_location\"].value_counts()"
   ]
  },
  {
   "cell_type": "code",
   "execution_count": 109,
   "metadata": {},
   "outputs": [],
   "source": [
    "tweet_prototype_data.to_csv('./data/tweet_processed.csv')"
   ]
  },
  {
   "cell_type": "markdown",
   "metadata": {},
   "source": [
    "## Prototype 0\n",
    "Drop `p_location`, `p_keyword`, and `p_has_location`.  \n",
    "Only consider `text` and `target`."
   ]
  },
  {
   "cell_type": "code",
   "execution_count": 25,
   "metadata": {},
   "outputs": [],
   "source": [
    "tweet_data0 = tweet_prototype_data.copy()\n",
    "tweet_data0 = tweet_data0.drop(['p_location', 'p_keyword', 'p_has_location'], axis=1)"
   ]
  },
  {
   "cell_type": "code",
   "execution_count": 41,
   "metadata": {},
   "outputs": [],
   "source": [
    "tweet_data0 = tweet_data0.drop(['id'], axis=1)"
   ]
  },
  {
   "cell_type": "code",
   "execution_count": 42,
   "metadata": {},
   "outputs": [
    {
     "name": "stdout",
     "output_type": "stream",
     "text": [
      "<class 'pandas.core.frame.DataFrame'>\n",
      "RangeIndex: 7613 entries, 0 to 7612\n",
      "Data columns (total 2 columns):\n",
      " #   Column  Non-Null Count  Dtype \n",
      "---  ------  --------------  ----- \n",
      " 0   text    7613 non-null   object\n",
      " 1   target  7613 non-null   int64 \n",
      "dtypes: int64(1), object(1)\n",
      "memory usage: 119.1+ KB\n"
     ]
    }
   ],
   "source": [
    "tweet_data0.info()"
   ]
  },
  {
   "cell_type": "markdown",
   "metadata": {},
   "source": [
    "## Prototype 1\n",
    "Drop `p_location`. "
   ]
  },
  {
   "cell_type": "code",
   "execution_count": 20,
   "metadata": {},
   "outputs": [],
   "source": [
    "tweet_data1 = tweet_prototype_data.copy()\n",
    "tweet_data1 = tweet_data1.drop(['p_location'], axis=1)"
   ]
  },
  {
   "cell_type": "markdown",
   "metadata": {},
   "source": [
    "# Data Preparation"
   ]
  },
  {
   "cell_type": "code",
   "execution_count": 27,
   "metadata": {},
   "outputs": [],
   "source": [
    "from sklearn.model_selection import StratifiedShuffleSplit"
   ]
  },
  {
   "cell_type": "code",
   "execution_count": 48,
   "metadata": {},
   "outputs": [],
   "source": [
    "from collections import Counter"
   ]
  },
  {
   "cell_type": "markdown",
   "metadata": {},
   "source": [
    "## Prototype 0"
   ]
  },
  {
   "cell_type": "code",
   "execution_count": 45,
   "metadata": {},
   "outputs": [],
   "source": [
    "split = StratifiedShuffleSplit(n_splits=1, test_size=0.4, random_state=84)\n",
    "for train_index, test_index in split.split(tweet_data0, tweet_data0[\"target\"]):\n",
    "    train_set0 = tweet_data0.loc[train_index]\n",
    "    test_and_valid_set0 = tweet_data0.loc[test_index]\n",
    "\n",
    "split2 = StratifiedShuffleSplit(n_splits=1, test_size=0.5, random_state=84)\n",
    "for test_index, valid_index in split2.split(test_and_valid_set0, test_and_valid_set0[\"target\"]):\n",
    "    test_set0 = tweet_data0.loc[test_index]\n",
    "    valid_set0 = tweet_data0.loc[valid_index]\n"
   ]
  },
  {
   "cell_type": "code",
   "execution_count": 46,
   "metadata": {},
   "outputs": [
    {
     "name": "stdout",
     "output_type": "stream",
     "text": [
      "train dataset: 4567\n",
      "valid dataset: 1523\n",
      "test dataset: 1523\n"
     ]
    }
   ],
   "source": [
    "print(\"train dataset:\", len(train_set0))\n",
    "print(\"valid dataset:\", len(valid_set0))\n",
    "print(\"test dataset:\", len(test_set0))"
   ]
  },
  {
   "cell_type": "code",
   "execution_count": 84,
   "metadata": {},
   "outputs": [],
   "source": [
    "train_dataset0 = tf.data.Dataset.from_tensor_slices((train_set0['text'].values, train_set0['target'].values))\n",
    "valid_dataset0 = tf.data.Dataset.from_tensor_slices((valid_set0['text'].values, valid_set0['target'].values))\n",
    "test_dataset0 = tf.data.Dataset.from_tensor_slices((test_set0['text'].values, test_set0['target'].values))"
   ]
  },
  {
   "cell_type": "code",
   "execution_count": 85,
   "metadata": {},
   "outputs": [],
   "source": [
    "BUFFER_SIZE = 10000\n",
    "BATCH_SIZE = 25"
   ]
  },
  {
   "cell_type": "code",
   "execution_count": 86,
   "metadata": {},
   "outputs": [],
   "source": [
    "train_dataset0 = train_dataset0.shuffle(BUFFER_SIZE).batch(BATCH_SIZE).prefetch(tf.data.AUTOTUNE)\n",
    "valid_dataset0 = valid_dataset0.batch(BATCH_SIZE).prefetch(tf.data.AUTOTUNE)"
   ]
  },
  {
   "cell_type": "code",
   "execution_count": 87,
   "metadata": {},
   "outputs": [
    {
     "name": "stdout",
     "output_type": "stream",
     "text": [
      "texts:  [b'Another sad ocean casualty-Gray whale population in the Pacific listed as critically #endangered (#drone video) https://t.co/vwz3vZpmfb .'\n",
      " b\"@AnnmarieRonan @niamhosullivanx I can't watch tat show its like a horror movie to me I get flashbacks an everything #traumatised\"\n",
      " b\"Crazy storm hit and I'm trapped inside a Hobby Lobby AMA http://t.co/8qc8Bcxoko\"]\n",
      "\n",
      "targets:  [1 0 1]\n"
     ]
    },
    {
     "name": "stderr",
     "output_type": "stream",
     "text": [
      "2023-08-19 10:57:11.290930: I tensorflow/core/common_runtime/executor.cc:1197] [/device:CPU:0] (DEBUG INFO) Executor start aborting (this does not indicate an error and you can ignore this message): INVALID_ARGUMENT: You must feed a value for placeholder tensor 'Placeholder/_1' with dtype int64 and shape [4567]\n",
      "\t [[{{node Placeholder/_1}}]]\n",
      "2023-08-19 10:57:11.292776: I tensorflow/core/common_runtime/executor.cc:1197] [/device:CPU:0] (DEBUG INFO) Executor start aborting (this does not indicate an error and you can ignore this message): INVALID_ARGUMENT: You must feed a value for placeholder tensor 'Placeholder/_0' with dtype string and shape [4567]\n",
      "\t [[{{node Placeholder/_0}}]]\n"
     ]
    }
   ],
   "source": [
    "for example, label in train_dataset0.take(1):\n",
    "  print('texts: ', example.numpy()[:3])\n",
    "  print()\n",
    "  print('targets: ', label.numpy()[:3])"
   ]
  },
  {
   "cell_type": "markdown",
   "metadata": {},
   "source": [
    "### Text Encoding"
   ]
  },
  {
   "cell_type": "code",
   "execution_count": 88,
   "metadata": {},
   "outputs": [
    {
     "name": "stderr",
     "output_type": "stream",
     "text": [
      "2023-08-19 10:57:24.920235: I tensorflow/core/common_runtime/executor.cc:1197] [/device:CPU:0] (DEBUG INFO) Executor start aborting (this does not indicate an error and you can ignore this message): INVALID_ARGUMENT: You must feed a value for placeholder tensor 'Placeholder/_1' with dtype int64 and shape [4567]\n",
      "\t [[{{node Placeholder/_1}}]]\n",
      "2023-08-19 10:57:24.921324: I tensorflow/core/common_runtime/executor.cc:1197] [/device:CPU:0] (DEBUG INFO) Executor start aborting (this does not indicate an error and you can ignore this message): INVALID_ARGUMENT: You must feed a value for placeholder tensor 'Placeholder/_0' with dtype string and shape [4567]\n",
      "\t [[{{node Placeholder/_0}}]]\n"
     ]
    }
   ],
   "source": [
    "VOCAB_SIZE = 5000\n",
    "encoder = tf.keras.layers.TextVectorization(max_tokens=VOCAB_SIZE)\n",
    "encoder.adapt(train_dataset0.map(lambda text, label: text))"
   ]
  },
  {
   "cell_type": "code",
   "execution_count": 89,
   "metadata": {},
   "outputs": [
    {
     "name": "stdout",
     "output_type": "stream",
     "text": [
      "5000\n"
     ]
    },
    {
     "data": {
      "text/plain": [
       "array(['', '[UNK]', 'the', 'a', 'in', 'to', 'of', 'and', 'i', 'is', 'for',\n",
       "       'on', 'you', 'my', 'with', 'that', 'it', 'at', 'by', 'this'],\n",
       "      dtype='<U21')"
      ]
     },
     "execution_count": 89,
     "metadata": {},
     "output_type": "execute_result"
    }
   ],
   "source": [
    "vocab = np.array(encoder.get_vocabulary())\n",
    "print(vocab.size)\n",
    "vocab[:20]"
   ]
  },
  {
   "cell_type": "code",
   "execution_count": 90,
   "metadata": {},
   "outputs": [
    {
     "data": {
      "text/plain": [
       "array([[ 159,  837, 1516,    1,    1, 1100,    4,    2, 2651, 3914,   25,\n",
       "           1, 4289, 1812,   70,    1,    0,    0,    0,    0,    0,    0,\n",
       "           0,    0],\n",
       "       [   1,    1,    8,  109,  130,    1,  527,   39,   27,    3,  716,\n",
       "         279,    5,   26,    8,   48,    1,   42,  768,  439,    0,    0,\n",
       "           0,    0],\n",
       "       [ 877,   91,  210,    7,   36,  245,  539,    3,    1,    1,    1,\n",
       "           1,    0,    0,    0,    0,    0,    0,    0,    0,    0,    0,\n",
       "           0,    0]])"
      ]
     },
     "execution_count": 90,
     "metadata": {},
     "output_type": "execute_result"
    }
   ],
   "source": [
    "encoded_example = encoder(example)[:3].numpy()\n",
    "encoded_example"
   ]
  },
  {
   "cell_type": "code",
   "execution_count": 91,
   "metadata": {},
   "outputs": [
    {
     "name": "stdout",
     "output_type": "stream",
     "text": [
      "Original:  b'Another sad ocean casualty-Gray whale population in the Pacific listed as critically #endangered (#drone video) https://t.co/vwz3vZpmfb .'\n",
      "Round-trip:  another sad ocean [UNK] [UNK] population in the pacific listed as [UNK] endangered drone video [UNK]        \n",
      "\n",
      "Original:  b\"@AnnmarieRonan @niamhosullivanx I can't watch tat show its like a horror movie to me I get flashbacks an everything #traumatised\"\n",
      "Round-trip:  [UNK] [UNK] i cant watch [UNK] show its like a horror movie to me i get [UNK] an everything traumatised    \n",
      "\n",
      "Original:  b\"Crazy storm hit and I'm trapped inside a Hobby Lobby AMA http://t.co/8qc8Bcxoko\"\n",
      "Round-trip:  crazy storm hit and im trapped inside a [UNK] [UNK] [UNK] [UNK]            \n",
      "\n"
     ]
    }
   ],
   "source": [
    "for n in range(3):\n",
    "  print(\"Original: \", example[n].numpy())\n",
    "  print(\"Round-trip: \", \" \".join(vocab[encoded_example[n]]))\n",
    "  print()"
   ]
  },
  {
   "cell_type": "markdown",
   "metadata": {},
   "source": [
    "# Model and Training"
   ]
  },
  {
   "cell_type": "markdown",
   "metadata": {},
   "source": [
    "## Prototype 0"
   ]
  },
  {
   "cell_type": "markdown",
   "metadata": {},
   "source": [
    "### Create the Model"
   ]
  },
  {
   "cell_type": "code",
   "execution_count": 92,
   "metadata": {},
   "outputs": [],
   "source": [
    "model = tf.keras.Sequential([\n",
    "    encoder,\n",
    "    tf.keras.layers.Embedding(\n",
    "        input_dim=len(encoder.get_vocabulary()),\n",
    "        output_dim=64,\n",
    "        # Use masking to handle the variable sequence length\n",
    "        mask_zero=True\n",
    "    ),\n",
    "    tf.keras.layers.Bidirectional(tf.keras.layers.LSTM(64)),\n",
    "    tf.keras.layers.Dense(64, activation='relu'),\n",
    "    tf.keras.layers.Dense(1)\n",
    "])"
   ]
  },
  {
   "cell_type": "code",
   "execution_count": 93,
   "metadata": {},
   "outputs": [
    {
     "name": "stdout",
     "output_type": "stream",
     "text": [
      "Model: \"sequential_2\"\n",
      "_________________________________________________________________\n",
      " Layer (type)                Output Shape              Param #   \n",
      "=================================================================\n",
      " text_vectorization_2 (TextV  (None, None)             0         \n",
      " ectorization)                                                   \n",
      "                                                                 \n",
      " embedding_2 (Embedding)     (None, None, 64)          320000    \n",
      "                                                                 \n",
      " bidirectional_2 (Bidirectio  (None, 128)              66048     \n",
      " nal)                                                            \n",
      "                                                                 \n",
      " dense_4 (Dense)             (None, 64)                8256      \n",
      "                                                                 \n",
      " dense_5 (Dense)             (None, 1)                 65        \n",
      "                                                                 \n",
      "=================================================================\n",
      "Total params: 394,369\n",
      "Trainable params: 394,369\n",
      "Non-trainable params: 0\n",
      "_________________________________________________________________\n"
     ]
    }
   ],
   "source": [
    "model.summary()"
   ]
  },
  {
   "cell_type": "code",
   "execution_count": 80,
   "metadata": {},
   "outputs": [
    {
     "name": "stdout",
     "output_type": "stream",
     "text": [
      "[False, True, True, True, True]\n"
     ]
    }
   ],
   "source": [
    "print([layer.supports_masking for layer in model.layers])"
   ]
  },
  {
   "cell_type": "code",
   "execution_count": 94,
   "metadata": {},
   "outputs": [],
   "source": [
    "model.compile(loss=tf.keras.losses.BinaryCrossentropy(from_logits=True),\n",
    "              optimizer=tf.keras.optimizers.Adam(1e-4),\n",
    "              metrics=['accuracy'])"
   ]
  },
  {
   "cell_type": "markdown",
   "metadata": {},
   "source": [
    "### Train the Model"
   ]
  },
  {
   "cell_type": "code",
   "execution_count": 95,
   "metadata": {},
   "outputs": [
    {
     "name": "stdout",
     "output_type": "stream",
     "text": [
      "Epoch 1/10\n"
     ]
    },
    {
     "name": "stderr",
     "output_type": "stream",
     "text": [
      "2023-08-19 10:58:09.615464: I tensorflow/core/common_runtime/executor.cc:1197] [/device:CPU:0] (DEBUG INFO) Executor start aborting (this does not indicate an error and you can ignore this message): INVALID_ARGUMENT: You must feed a value for placeholder tensor 'Placeholder/_0' with dtype string and shape [4567]\n",
      "\t [[{{node Placeholder/_0}}]]\n",
      "2023-08-19 10:58:09.616705: I tensorflow/core/common_runtime/executor.cc:1197] [/device:CPU:0] (DEBUG INFO) Executor start aborting (this does not indicate an error and you can ignore this message): INVALID_ARGUMENT: You must feed a value for placeholder tensor 'Placeholder/_0' with dtype string and shape [4567]\n",
      "\t [[{{node Placeholder/_0}}]]\n"
     ]
    },
    {
     "name": "stderr",
     "output_type": "stream",
     "text": [
      "2023-08-19 10:58:20.298904: I tensorflow/core/common_runtime/executor.cc:1197] [/device:CPU:0] (DEBUG INFO) Executor start aborting (this does not indicate an error and you can ignore this message): INVALID_ARGUMENT: You must feed a value for placeholder tensor 'gradients/ReverseV2_grad/ReverseV2/ReverseV2/axis' with dtype int32 and shape [1]\n",
      "\t [[{{node gradients/ReverseV2_grad/ReverseV2/ReverseV2/axis}}]]\n",
      "2023-08-19 10:58:31.588032: I tensorflow/core/common_runtime/executor.cc:1197] [/device:CPU:0] (DEBUG INFO) Executor start aborting (this does not indicate an error and you can ignore this message): INVALID_ARGUMENT: You must feed a value for placeholder tensor 'gradients/ReverseV2_grad/ReverseV2/ReverseV2/axis' with dtype int32 and shape [1]\n",
      "\t [[{{node gradients/ReverseV2_grad/ReverseV2/ReverseV2/axis}}]]\n"
     ]
    },
    {
     "name": "stdout",
     "output_type": "stream",
     "text": [
      "183/183 [==============================] - ETA: 0s - loss: 0.6820 - accuracy: 0.5704"
     ]
    },
    {
     "name": "stderr",
     "output_type": "stream",
     "text": [
      "2023-08-19 10:59:01.833749: I tensorflow/core/common_runtime/executor.cc:1197] [/device:CPU:0] (DEBUG INFO) Executor start aborting (this does not indicate an error and you can ignore this message): INVALID_ARGUMENT: You must feed a value for placeholder tensor 'Placeholder/_1' with dtype int64 and shape [1523]\n",
      "\t [[{{node Placeholder/_1}}]]\n"
     ]
    },
    {
     "name": "stdout",
     "output_type": "stream",
     "text": [
      "183/183 [==============================] - 63s 193ms/step - loss: 0.6820 - accuracy: 0.5704 - val_loss: 0.6518 - val_accuracy: 0.6067\n",
      "Epoch 2/10\n",
      "183/183 [==============================] - 23s 124ms/step - loss: 0.5858 - accuracy: 0.6265 - val_loss: 0.4829 - val_accuracy: 0.7693\n",
      "Epoch 3/10\n",
      "183/183 [==============================] - 43s 232ms/step - loss: 0.4262 - accuracy: 0.8115 - val_loss: 0.3982 - val_accuracy: 0.8253\n",
      "Epoch 4/10\n",
      "183/183 [==============================] - 23s 124ms/step - loss: 0.3369 - accuracy: 0.8564 - val_loss: 0.3540 - val_accuracy: 0.8560\n",
      "Epoch 5/10\n",
      "183/183 [==============================] - 25s 136ms/step - loss: 0.2746 - accuracy: 0.8850 - val_loss: 0.3276 - val_accuracy: 0.8747\n",
      "Epoch 6/10\n",
      "183/183 [==============================] - 25s 132ms/step - loss: 0.2309 - accuracy: 0.9078 - val_loss: 0.3267 - val_accuracy: 0.8813\n",
      "Epoch 7/10\n",
      "183/183 [==============================] - 24s 128ms/step - loss: 0.1912 - accuracy: 0.9295 - val_loss: 0.3595 - val_accuracy: 0.8720\n",
      "Epoch 8/10\n",
      "183/183 [==============================] - 26s 141ms/step - loss: 0.1713 - accuracy: 0.9308 - val_loss: 0.3404 - val_accuracy: 0.8733\n",
      "Epoch 9/10\n",
      "183/183 [==============================] - 24s 128ms/step - loss: 0.1488 - accuracy: 0.9424 - val_loss: 0.3248 - val_accuracy: 0.8867\n",
      "Epoch 10/10\n",
      "183/183 [==============================] - 22s 122ms/step - loss: 0.1286 - accuracy: 0.9492 - val_loss: 0.3376 - val_accuracy: 0.8880\n"
     ]
    }
   ],
   "source": [
    "history = model.fit(train_dataset0, epochs=10,\n",
    "                    validation_data=valid_dataset0,\n",
    "                    validation_steps=30)"
   ]
  },
  {
   "cell_type": "code",
   "execution_count": 96,
   "metadata": {},
   "outputs": [
    {
     "data": {
      "text/plain": [
       "(0.0, 0.7096784234046936)"
      ]
     },
     "execution_count": 96,
     "metadata": {},
     "output_type": "execute_result"
    },
    {
     "data": {
      "image/png": "[encoded data removed]",
      "text/plain": [
       "<Figure size 1600x800 with 2 Axes>"
      ]
     },
     "metadata": {},
     "output_type": "display_data"
    }
   ],
   "source": [
    "plt.figure(figsize=(16, 8))\n",
    "plt.subplot(1, 2, 1)\n",
    "plot_graphs(history, 'accuracy')\n",
    "plt.ylim(None, 1)\n",
    "plt.subplot(1, 2, 2)\n",
    "plot_graphs(history, 'loss')\n",
    "plt.ylim(0, None)"
   ]
  },
  {
   "cell_type": "code",
   "execution_count": 114,
   "metadata": {},
   "outputs": [
    {
     "ename": "NotImplementedError",
     "evalue": "Save or restore weights that is not an instance of `tf.Variable` is not supported in h5, use `save_format='tf'` instead. Received a model or layer TextVectorization with weights [<keras.layers.preprocessing.index_lookup.VocabWeightHandler object at 0x7ff5704c4670>]",
     "output_type": "error",
     "traceback": [
      "\u001b[0;31m---------------------------------------------------------------------------\u001b[0m",
      "\u001b[0;31mNotImplementedError\u001b[0m                       Traceback (most recent call last)",
      "Cell \u001b[0;32mIn[114], line 1\u001b[0m\n\u001b[0;32m----> 1\u001b[0m model\u001b[39m.\u001b[39;49msave(\u001b[39m\"\u001b[39;49m\u001b[39m./models/model0_proto0_230819.keras\u001b[39;49m\u001b[39m\"\u001b[39;49m, save_format\u001b[39m=\u001b[39;49m\u001b[39m\"\u001b[39;49m\u001b[39mtf\u001b[39;49m\u001b[39m\"\u001b[39;49m)\n",
      "File \u001b[0;32m~/anaconda3/lib/python3.10/site-packages/keras/utils/traceback_utils.py:70\u001b[0m, in \u001b[0;36mfilter_traceback.<locals>.error_handler\u001b[0;34m(*args, **kwargs)\u001b[0m\n\u001b[1;32m     67\u001b[0m     filtered_tb \u001b[39m=\u001b[39m _process_traceback_frames(e\u001b[39m.\u001b[39m__traceback__)\n\u001b[1;32m     68\u001b[0m     \u001b[39m# To get the full stack trace, call:\u001b[39;00m\n\u001b[1;32m     69\u001b[0m     \u001b[39m# `tf.debugging.disable_traceback_filtering()`\u001b[39;00m\n\u001b[0;32m---> 70\u001b[0m     \u001b[39mraise\u001b[39;00m e\u001b[39m.\u001b[39mwith_traceback(filtered_tb) \u001b[39mfrom\u001b[39;00m \u001b[39mNone\u001b[39m\n\u001b[1;32m     71\u001b[0m \u001b[39mfinally\u001b[39;00m:\n\u001b[1;32m     72\u001b[0m     \u001b[39mdel\u001b[39;00m filtered_tb\n",
      "File \u001b[0;32m~/anaconda3/lib/python3.10/site-packages/keras/saving/legacy/hdf5_format.py:1102\u001b[0m, in \u001b[0;36m_legacy_weights\u001b[0;34m(layer)\u001b[0m\n\u001b[1;32m   1100\u001b[0m weights \u001b[39m=\u001b[39m layer\u001b[39m.\u001b[39mtrainable_weights \u001b[39m+\u001b[39m layer\u001b[39m.\u001b[39mnon_trainable_weights\n\u001b[1;32m   1101\u001b[0m \u001b[39mif\u001b[39;00m \u001b[39many\u001b[39m(\u001b[39mnot\u001b[39;00m \u001b[39misinstance\u001b[39m(w, tf\u001b[39m.\u001b[39mVariable) \u001b[39mfor\u001b[39;00m w \u001b[39min\u001b[39;00m weights):\n\u001b[0;32m-> 1102\u001b[0m     \u001b[39mraise\u001b[39;00m \u001b[39mNotImplementedError\u001b[39;00m(\n\u001b[1;32m   1103\u001b[0m         \u001b[39m\"\u001b[39m\u001b[39mSave or restore weights that is not an instance of `tf.Variable` \u001b[39m\u001b[39m\"\u001b[39m\n\u001b[1;32m   1104\u001b[0m         \u001b[39m\"\u001b[39m\u001b[39mis not supported in h5, use `save_format=\u001b[39m\u001b[39m'\u001b[39m\u001b[39mtf\u001b[39m\u001b[39m'\u001b[39m\u001b[39m` instead. Received \u001b[39m\u001b[39m\"\u001b[39m\n\u001b[1;32m   1105\u001b[0m         \u001b[39mf\u001b[39m\u001b[39m\"\u001b[39m\u001b[39ma model or layer \u001b[39m\u001b[39m{\u001b[39;00mlayer\u001b[39m.\u001b[39m\u001b[39m__class__\u001b[39m\u001b[39m.\u001b[39m\u001b[39m__name__\u001b[39m\u001b[39m}\u001b[39;00m\u001b[39m \u001b[39m\u001b[39m\"\u001b[39m\n\u001b[1;32m   1106\u001b[0m         \u001b[39mf\u001b[39m\u001b[39m\"\u001b[39m\u001b[39mwith weights \u001b[39m\u001b[39m{\u001b[39;00mweights\u001b[39m}\u001b[39;00m\u001b[39m\"\u001b[39m\n\u001b[1;32m   1107\u001b[0m     )\n\u001b[1;32m   1108\u001b[0m \u001b[39mreturn\u001b[39;00m weights\n",
      "\u001b[0;31mNotImplementedError\u001b[0m: Save or restore weights that is not an instance of `tf.Variable` is not supported in h5, use `save_format='tf'` instead. Received a model or layer TextVectorization with weights [<keras.layers.preprocessing.index_lookup.VocabWeightHandler object at 0x7ff5704c4670>]"
     ]
    }
   ],
   "source": [
    "model.save(\"./models/model0_proto0_230819.keras\", save_format=\"tf\")"
   ]
  },
  {
   "cell_type": "markdown",
   "metadata": {},
   "source": [
    "### Stack two LSTM layers"
   ]
  },
  {
   "cell_type": "code",
   "execution_count": 104,
   "metadata": {},
   "outputs": [],
   "source": [
    "model1 = tf.keras.Sequential([\n",
    "    encoder,\n",
    "    tf.keras.layers.Embedding(len(encoder.get_vocabulary()), 64, mask_zero=True),\n",
    "    tf.keras.layers.Bidirectional(tf.keras.layers.LSTM(64, return_sequences=True)),\n",
    "    tf.keras.layers.Bidirectional(tf.keras.layers.LSTM(32)),\n",
    "    tf.keras.layers.Dense(64, activation='relu'),\n",
    "    tf.keras.layers.Dropout(0.5),\n",
    "    tf.keras.layers.Dense(1)\n",
    "])"
   ]
  },
  {
   "cell_type": "code",
   "execution_count": 105,
   "metadata": {},
   "outputs": [
    {
     "name": "stdout",
     "output_type": "stream",
     "text": [
      "Model: \"sequential_4\"\n",
      "_________________________________________________________________\n",
      " Layer (type)                Output Shape              Param #   \n",
      "=================================================================\n",
      " text_vectorization_2 (TextV  (None, None)             0         \n",
      " ectorization)                                                   \n",
      "                                                                 \n",
      " embedding_4 (Embedding)     (None, None, 64)          320000    \n",
      "                                                                 \n",
      " bidirectional_5 (Bidirectio  (None, None, 128)        66048     \n",
      " nal)                                                            \n",
      "                                                                 \n",
      " bidirectional_6 (Bidirectio  (None, 64)               41216     \n",
      " nal)                                                            \n",
      "                                                                 \n",
      " dense_8 (Dense)             (None, 64)                4160      \n",
      "                                                                 \n",
      " dropout_1 (Dropout)         (None, 64)                0         \n",
      "                                                                 \n",
      " dense_9 (Dense)             (None, 1)                 65        \n",
      "                                                                 \n",
      "=================================================================\n",
      "Total params: 431,489\n",
      "Trainable params: 431,489\n",
      "Non-trainable params: 0\n",
      "_________________________________________________________________\n"
     ]
    }
   ],
   "source": [
    "model1.summary()"
   ]
  },
  {
   "cell_type": "code",
   "execution_count": 106,
   "metadata": {},
   "outputs": [],
   "source": [
    "model1.compile(loss=tf.keras.losses.BinaryCrossentropy(from_logits=True),\n",
    "               optimizer=tf.keras.optimizers.Adam(1e-4),\n",
    "               metrics=['accuracy'])"
   ]
  },
  {
   "cell_type": "code",
   "execution_count": 107,
   "metadata": {},
   "outputs": [
    {
     "name": "stdout",
     "output_type": "stream",
     "text": [
      "Epoch 1/10\n"
     ]
    },
    {
     "name": "stderr",
     "output_type": "stream",
     "text": [
      "2023-08-19 11:15:24.053026: I tensorflow/core/common_runtime/executor.cc:1197] [/device:CPU:0] (DEBUG INFO) Executor start aborting (this does not indicate an error and you can ignore this message): INVALID_ARGUMENT: You must feed a value for placeholder tensor 'gradients/ReverseV2_grad/ReverseV2/ReverseV2/axis' with dtype int32 and shape [1]\n",
      "\t [[{{node gradients/ReverseV2_grad/ReverseV2/ReverseV2/axis}}]]\n",
      "2023-08-19 11:15:26.832450: I tensorflow/core/common_runtime/executor.cc:1197] [/device:CPU:0] (DEBUG INFO) Executor start aborting (this does not indicate an error and you can ignore this message): INVALID_ARGUMENT: You must feed a value for placeholder tensor 'gradients/ReverseV2_grad/ReverseV2/ReverseV2/axis' with dtype int32 and shape [1]\n",
      "\t [[{{node gradients/ReverseV2_grad/ReverseV2/ReverseV2/axis}}]]\n",
      "2023-08-19 11:15:47.433405: I tensorflow/core/common_runtime/executor.cc:1197] [/device:CPU:0] (DEBUG INFO) Executor start aborting (this does not indicate an error and you can ignore this message): INVALID_ARGUMENT: You must feed a value for placeholder tensor 'gradients/ReverseV2_grad/ReverseV2/ReverseV2/axis' with dtype int32 and shape [1]\n",
      "\t [[{{node gradients/ReverseV2_grad/ReverseV2/ReverseV2/axis}}]]\n",
      "2023-08-19 11:15:52.884413: I tensorflow/core/common_runtime/executor.cc:1197] [/device:CPU:0] (DEBUG INFO) Executor start aborting (this does not indicate an error and you can ignore this message): INVALID_ARGUMENT: You must feed a value for placeholder tensor 'gradients/ReverseV2_grad/ReverseV2/ReverseV2/axis' with dtype int32 and shape [1]\n",
      "\t [[{{node gradients/ReverseV2_grad/ReverseV2/ReverseV2/axis}}]]\n"
     ]
    },
    {
     "name": "stdout",
     "output_type": "stream",
     "text": [
      "183/183 [==============================] - 130s 402ms/step - loss: 0.6837 - accuracy: 0.5704 - val_loss: 0.6569 - val_accuracy: 0.6067\n",
      "Epoch 2/10\n",
      "183/183 [==============================] - 33s 182ms/step - loss: 0.5882 - accuracy: 0.6339 - val_loss: 0.4843 - val_accuracy: 0.7853\n",
      "Epoch 3/10\n",
      "183/183 [==============================] - 37s 197ms/step - loss: 0.4295 - accuracy: 0.8117 - val_loss: 0.4014 - val_accuracy: 0.8440\n",
      "Epoch 4/10\n",
      "183/183 [==============================] - 35s 193ms/step - loss: 0.3411 - accuracy: 0.8623 - val_loss: 0.3490 - val_accuracy: 0.8627\n",
      "Epoch 5/10\n",
      "183/183 [==============================] - 36s 196ms/step - loss: 0.2797 - accuracy: 0.8929 - val_loss: 0.3384 - val_accuracy: 0.8560\n",
      "Epoch 6/10\n",
      "183/183 [==============================] - 36s 193ms/step - loss: 0.2321 - accuracy: 0.9133 - val_loss: 0.3221 - val_accuracy: 0.8827\n",
      "Epoch 7/10\n",
      "183/183 [==============================] - 34s 188ms/step - loss: 0.1975 - accuracy: 0.9247 - val_loss: 0.3218 - val_accuracy: 0.8893\n",
      "Epoch 8/10\n",
      "183/183 [==============================] - 38s 206ms/step - loss: 0.1644 - accuracy: 0.9442 - val_loss: 0.3272 - val_accuracy: 0.8880\n",
      "Epoch 9/10\n",
      "183/183 [==============================] - 38s 204ms/step - loss: 0.1415 - accuracy: 0.9514 - val_loss: 0.3161 - val_accuracy: 0.8960\n",
      "Epoch 10/10\n",
      "183/183 [==============================] - 36s 191ms/step - loss: 0.1243 - accuracy: 0.9564 - val_loss: 0.3181 - val_accuracy: 0.8960\n"
     ]
    }
   ],
   "source": [
    "history1 = model1.fit(train_dataset0, epochs=10,\n",
    "                      validation_data=valid_dataset0,\n",
    "                      validation_steps=30)"
   ]
  },
  {
   "cell_type": "code",
   "execution_count": 108,
   "metadata": {},
   "outputs": [
    {
     "data": {
      "image/png": "[encoded data removed]",
      "text/plain": [
       "<Figure size 1600x600 with 2 Axes>"
      ]
     },
     "metadata": {},
     "output_type": "display_data"
    }
   ],
   "source": [
    "plt.figure(figsize=(16, 6))\n",
    "plt.subplot(1, 2, 1)\n",
    "plot_graphs(history1, 'accuracy')\n",
    "plt.subplot(1, 2, 2)\n",
    "plot_graphs(history1, 'loss')"
   ]
  }
 ],
 "metadata": {
  "kernelspec": {
   "display_name": "base",
   "language": "python",
   "name": "python3"
  },
  "language_info": {
   "codemirror_mode": {
    "name": "ipython",
    "version": 3
   },
   "file_extension": ".py",
   "mimetype": "text/x-python",
   "name": "python",
   "nbconvert_exporter": "python",
   "pygments_lexer": "ipython3",
   "version": "3.10.9"
  },
  "orig_nbformat": 4
 },
 "nbformat": 4,
 "nbformat_minor": 2
}
